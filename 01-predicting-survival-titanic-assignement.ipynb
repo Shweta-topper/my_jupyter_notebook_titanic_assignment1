{
 "cells": [
  {
   "cell_type": "markdown",
   "metadata": {},
   "source": [
    "## Predicting Survival on the Titanic\n",
    "\n",
    "### History\n",
    "Perhaps one of the most infamous shipwrecks in history, the Titanic sank after colliding with an iceberg, killing 1502 out of 2224 people on board. Interestingly, by analysing the probability of survival based on few attributes like gender, age, and social status, we can make very accurate predictions on which passengers would survive. Some groups of people were more likely to survive than others, such as women, children, and the upper-class. Therefore, we can learn about the society priorities and privileges at the time.\n",
    "\n",
    "### Assignment:\n",
    "\n",
    "Build a Machine Learning Pipeline, to engineer the features in the data set and predict who is more likely to Survive the catastrophe.\n",
    "\n",
    "Follow the Jupyter notebook below, and complete the missing bits of code, to achieve each one of the pipeline steps."
   ]
  },
  {
   "cell_type": "code",
   "metadata": {
    "ExecuteTime": {
     "end_time": "2024-06-08T09:57:48.199412Z",
     "start_time": "2024-06-08T09:57:40.342528Z"
    }
   },
   "source": [
    "import re\n",
    "\n",
    "# to handle datasets\n",
    "import pandas as pd\n",
    "import numpy as np\n",
    "\n",
    "# for visualization\n",
    "import matplotlib.pyplot as plt\n",
    "\n",
    "# to divide train and test set\n",
    "from sklearn.model_selection import train_test_split\n",
    "\n",
    "# feature scaling\n",
    "from sklearn.preprocessing import StandardScaler\n",
    "\n",
    "# to build the models\n",
    "from sklearn.linear_model import LogisticRegression\n",
    "\n",
    "# to evaluate the models\n",
    "from sklearn.metrics import accuracy_score, roc_auc_score\n",
    "\n",
    "# to persist the model and the scaler\n",
    "import re\n",
    "\n",
    "# to handle datasets\n",
    "import pandas as pd\n",
    "import numpy as np\n",
    "\n",
    "# for visualization\n",
    "import matplotlib.pyplot as plt\n",
    "\n",
    "# to divide train and test set\n",
    "from sklearn.model_selection import train_test_split\n",
    "\n",
    "# feature scaling\n",
    "from sklearn.preprocessing import StandardScaler\n",
    "\n",
    "# to build the models\n",
    "from sklearn.linear_model import LogisticRegression\n",
    "\n",
    "# to evaluate the models\n",
    "from sklearn.metrics import accuracy_score, roc_auc_score\n",
    "\n",
    "# to persist the model and the scaler\n",
    "import joblib\n",
    "\n",
    "# to visualise al the columns in the dataframe\n",
    "pd.pandas.set_option('display.max_columns', None)\n",
    "\n",
    "# to visualise al the columns in the dataframe\n",
    "pd.pandas.set_option('display.max_columns', None)"
   ],
   "outputs": [],
   "execution_count": 3
  },
  {
   "cell_type": "markdown",
   "metadata": {},
   "source": [
    "## Prepare the data set"
   ]
  },
  {
   "cell_type": "code",
   "metadata": {
    "ExecuteTime": {
     "end_time": "2024-06-08T10:04:43.783916Z",
     "start_time": "2024-06-08T10:04:43.758483Z"
    }
   },
   "source": [
    "# load the data - it is available open source and online\n",
    "import pandas as pd\n",
    "\n",
    "data = pd.read_csv('/Users/shwetagarg/Downloads/Downloads/ML project_pycharm/ML deployment course/phpMYEkMl.csv')\n",
    "\n",
    "# display data\n",
    "data.head()"
   ],
   "outputs": [
    {
     "data": {
      "text/plain": [
       "   pclass  survived                                             name     sex  \\\n",
       "0       1         1                    Allen, Miss. Elisabeth Walton  female   \n",
       "1       1         1                   Allison, Master. Hudson Trevor    male   \n",
       "2       1         0                     Allison, Miss. Helen Loraine  female   \n",
       "3       1         0             Allison, Mr. Hudson Joshua Creighton    male   \n",
       "4       1         0  Allison, Mrs. Hudson J C (Bessie Waldo Daniels)  female   \n",
       "\n",
       "      age  sibsp  parch  ticket      fare    cabin embarked boat body  \\\n",
       "0      29      0      0   24160  211.3375       B5        S    2    ?   \n",
       "1  0.9167      1      2  113781    151.55  C22 C26        S   11    ?   \n",
       "2       2      1      2  113781    151.55  C22 C26        S    ?    ?   \n",
       "3      30      1      2  113781    151.55  C22 C26        S    ?  135   \n",
       "4      25      1      2  113781    151.55  C22 C26        S    ?    ?   \n",
       "\n",
       "                         home.dest  \n",
       "0                     St Louis, MO  \n",
       "1  Montreal, PQ / Chesterville, ON  \n",
       "2  Montreal, PQ / Chesterville, ON  \n",
       "3  Montreal, PQ / Chesterville, ON  \n",
       "4  Montreal, PQ / Chesterville, ON  "
      ],
      "text/html": [
       "<div>\n",
       "<style scoped>\n",
       "    .dataframe tbody tr th:only-of-type {\n",
       "        vertical-align: middle;\n",
       "    }\n",
       "\n",
       "    .dataframe tbody tr th {\n",
       "        vertical-align: top;\n",
       "    }\n",
       "\n",
       "    .dataframe thead th {\n",
       "        text-align: right;\n",
       "    }\n",
       "</style>\n",
       "<table border=\"1\" class=\"dataframe\">\n",
       "  <thead>\n",
       "    <tr style=\"text-align: right;\">\n",
       "      <th></th>\n",
       "      <th>pclass</th>\n",
       "      <th>survived</th>\n",
       "      <th>name</th>\n",
       "      <th>sex</th>\n",
       "      <th>age</th>\n",
       "      <th>sibsp</th>\n",
       "      <th>parch</th>\n",
       "      <th>ticket</th>\n",
       "      <th>fare</th>\n",
       "      <th>cabin</th>\n",
       "      <th>embarked</th>\n",
       "      <th>boat</th>\n",
       "      <th>body</th>\n",
       "      <th>home.dest</th>\n",
       "    </tr>\n",
       "  </thead>\n",
       "  <tbody>\n",
       "    <tr>\n",
       "      <th>0</th>\n",
       "      <td>1</td>\n",
       "      <td>1</td>\n",
       "      <td>Allen, Miss. Elisabeth Walton</td>\n",
       "      <td>female</td>\n",
       "      <td>29</td>\n",
       "      <td>0</td>\n",
       "      <td>0</td>\n",
       "      <td>24160</td>\n",
       "      <td>211.3375</td>\n",
       "      <td>B5</td>\n",
       "      <td>S</td>\n",
       "      <td>2</td>\n",
       "      <td>?</td>\n",
       "      <td>St Louis, MO</td>\n",
       "    </tr>\n",
       "    <tr>\n",
       "      <th>1</th>\n",
       "      <td>1</td>\n",
       "      <td>1</td>\n",
       "      <td>Allison, Master. Hudson Trevor</td>\n",
       "      <td>male</td>\n",
       "      <td>0.9167</td>\n",
       "      <td>1</td>\n",
       "      <td>2</td>\n",
       "      <td>113781</td>\n",
       "      <td>151.55</td>\n",
       "      <td>C22 C26</td>\n",
       "      <td>S</td>\n",
       "      <td>11</td>\n",
       "      <td>?</td>\n",
       "      <td>Montreal, PQ / Chesterville, ON</td>\n",
       "    </tr>\n",
       "    <tr>\n",
       "      <th>2</th>\n",
       "      <td>1</td>\n",
       "      <td>0</td>\n",
       "      <td>Allison, Miss. Helen Loraine</td>\n",
       "      <td>female</td>\n",
       "      <td>2</td>\n",
       "      <td>1</td>\n",
       "      <td>2</td>\n",
       "      <td>113781</td>\n",
       "      <td>151.55</td>\n",
       "      <td>C22 C26</td>\n",
       "      <td>S</td>\n",
       "      <td>?</td>\n",
       "      <td>?</td>\n",
       "      <td>Montreal, PQ / Chesterville, ON</td>\n",
       "    </tr>\n",
       "    <tr>\n",
       "      <th>3</th>\n",
       "      <td>1</td>\n",
       "      <td>0</td>\n",
       "      <td>Allison, Mr. Hudson Joshua Creighton</td>\n",
       "      <td>male</td>\n",
       "      <td>30</td>\n",
       "      <td>1</td>\n",
       "      <td>2</td>\n",
       "      <td>113781</td>\n",
       "      <td>151.55</td>\n",
       "      <td>C22 C26</td>\n",
       "      <td>S</td>\n",
       "      <td>?</td>\n",
       "      <td>135</td>\n",
       "      <td>Montreal, PQ / Chesterville, ON</td>\n",
       "    </tr>\n",
       "    <tr>\n",
       "      <th>4</th>\n",
       "      <td>1</td>\n",
       "      <td>0</td>\n",
       "      <td>Allison, Mrs. Hudson J C (Bessie Waldo Daniels)</td>\n",
       "      <td>female</td>\n",
       "      <td>25</td>\n",
       "      <td>1</td>\n",
       "      <td>2</td>\n",
       "      <td>113781</td>\n",
       "      <td>151.55</td>\n",
       "      <td>C22 C26</td>\n",
       "      <td>S</td>\n",
       "      <td>?</td>\n",
       "      <td>?</td>\n",
       "      <td>Montreal, PQ / Chesterville, ON</td>\n",
       "    </tr>\n",
       "  </tbody>\n",
       "</table>\n",
       "</div>"
      ]
     },
     "execution_count": 6,
     "metadata": {},
     "output_type": "execute_result"
    }
   ],
   "execution_count": 6
  },
  {
   "cell_type": "code",
   "metadata": {
    "ExecuteTime": {
     "end_time": "2024-06-08T10:05:23.481868Z",
     "start_time": "2024-06-08T10:05:23.472766Z"
    }
   },
   "source": [
    "# replace interrogation marks by NaN values\n",
    "\n",
    "data = data.replace('?', np.nan)"
   ],
   "outputs": [],
   "execution_count": 7
  },
  {
   "cell_type": "code",
   "metadata": {
    "ExecuteTime": {
     "end_time": "2024-06-08T10:05:28.809779Z",
     "start_time": "2024-06-08T10:05:28.804910Z"
    }
   },
   "source": [
    "# retain only the first cabin if more than\n",
    "# 1 are available per passenger\n",
    "\n",
    "def get_first_cabin(row):\n",
    "    try:\n",
    "        return row.split()[0]\n",
    "    except:\n",
    "        return np.nan\n",
    "    \n",
    "data['cabin'] = data['cabin'].apply(get_first_cabin)"
   ],
   "outputs": [],
   "execution_count": 8
  },
  {
   "cell_type": "code",
   "metadata": {
    "ExecuteTime": {
     "end_time": "2024-06-08T10:06:48.609477Z",
     "start_time": "2024-06-08T10:06:48.600996Z"
    }
   },
   "source": [
    "# extracts the title (Mr, Ms, etc) from the name variable\n",
    "\n",
    "def get_title(passenger):\n",
    "    line = passenger\n",
    "    if re.search('Mrs', line):\n",
    "        return 'Mrs'\n",
    "    elif re.search('Mr', line):\n",
    "        return 'Mr'\n",
    "    elif re.search('Miss', line):\n",
    "        return 'Miss'\n",
    "    elif re.search('Master', line):\n",
    "        return 'Master'\n",
    "    else:\n",
    "        return 'Other'\n",
    "    \n",
    "data['title'] = data['name'].apply(get_title)"
   ],
   "outputs": [],
   "execution_count": 9
  },
  {
   "cell_type": "code",
   "metadata": {},
   "source": [
    "# cast numerical variables as floats\n",
    "\n",
    "data['fare'] = data['fare'].astype('float')\n",
    "data['age'] = data['age'].astype('float')"
   ],
   "outputs": [],
   "execution_count": null
  },
  {
   "cell_type": "code",
   "metadata": {
    "ExecuteTime": {
     "end_time": "2024-06-08T10:07:04.669677Z",
     "start_time": "2024-06-08T10:07:04.659318Z"
    }
   },
   "source": [
    "# drop unnecessary variables\n",
    "\n",
    "data.drop(labels=['name','ticket', 'boat', 'body','home.dest'], axis=1, inplace=True)\n",
    "\n",
    "# display data\n",
    "data.head()"
   ],
   "outputs": [
    {
     "data": {
      "text/plain": [
       "   pclass  survived     sex     age  sibsp  parch      fare cabin embarked  \\\n",
       "0       1         1  female      29      0      0  211.3375    B5        S   \n",
       "1       1         1    male  0.9167      1      2    151.55   C22        S   \n",
       "2       1         0  female       2      1      2    151.55   C22        S   \n",
       "3       1         0    male      30      1      2    151.55   C22        S   \n",
       "4       1         0  female      25      1      2    151.55   C22        S   \n",
       "\n",
       "    title  \n",
       "0    Miss  \n",
       "1  Master  \n",
       "2    Miss  \n",
       "3      Mr  \n",
       "4     Mrs  "
      ],
      "text/html": [
       "<div>\n",
       "<style scoped>\n",
       "    .dataframe tbody tr th:only-of-type {\n",
       "        vertical-align: middle;\n",
       "    }\n",
       "\n",
       "    .dataframe tbody tr th {\n",
       "        vertical-align: top;\n",
       "    }\n",
       "\n",
       "    .dataframe thead th {\n",
       "        text-align: right;\n",
       "    }\n",
       "</style>\n",
       "<table border=\"1\" class=\"dataframe\">\n",
       "  <thead>\n",
       "    <tr style=\"text-align: right;\">\n",
       "      <th></th>\n",
       "      <th>pclass</th>\n",
       "      <th>survived</th>\n",
       "      <th>sex</th>\n",
       "      <th>age</th>\n",
       "      <th>sibsp</th>\n",
       "      <th>parch</th>\n",
       "      <th>fare</th>\n",
       "      <th>cabin</th>\n",
       "      <th>embarked</th>\n",
       "      <th>title</th>\n",
       "    </tr>\n",
       "  </thead>\n",
       "  <tbody>\n",
       "    <tr>\n",
       "      <th>0</th>\n",
       "      <td>1</td>\n",
       "      <td>1</td>\n",
       "      <td>female</td>\n",
       "      <td>29</td>\n",
       "      <td>0</td>\n",
       "      <td>0</td>\n",
       "      <td>211.3375</td>\n",
       "      <td>B5</td>\n",
       "      <td>S</td>\n",
       "      <td>Miss</td>\n",
       "    </tr>\n",
       "    <tr>\n",
       "      <th>1</th>\n",
       "      <td>1</td>\n",
       "      <td>1</td>\n",
       "      <td>male</td>\n",
       "      <td>0.9167</td>\n",
       "      <td>1</td>\n",
       "      <td>2</td>\n",
       "      <td>151.55</td>\n",
       "      <td>C22</td>\n",
       "      <td>S</td>\n",
       "      <td>Master</td>\n",
       "    </tr>\n",
       "    <tr>\n",
       "      <th>2</th>\n",
       "      <td>1</td>\n",
       "      <td>0</td>\n",
       "      <td>female</td>\n",
       "      <td>2</td>\n",
       "      <td>1</td>\n",
       "      <td>2</td>\n",
       "      <td>151.55</td>\n",
       "      <td>C22</td>\n",
       "      <td>S</td>\n",
       "      <td>Miss</td>\n",
       "    </tr>\n",
       "    <tr>\n",
       "      <th>3</th>\n",
       "      <td>1</td>\n",
       "      <td>0</td>\n",
       "      <td>male</td>\n",
       "      <td>30</td>\n",
       "      <td>1</td>\n",
       "      <td>2</td>\n",
       "      <td>151.55</td>\n",
       "      <td>C22</td>\n",
       "      <td>S</td>\n",
       "      <td>Mr</td>\n",
       "    </tr>\n",
       "    <tr>\n",
       "      <th>4</th>\n",
       "      <td>1</td>\n",
       "      <td>0</td>\n",
       "      <td>female</td>\n",
       "      <td>25</td>\n",
       "      <td>1</td>\n",
       "      <td>2</td>\n",
       "      <td>151.55</td>\n",
       "      <td>C22</td>\n",
       "      <td>S</td>\n",
       "      <td>Mrs</td>\n",
       "    </tr>\n",
       "  </tbody>\n",
       "</table>\n",
       "</div>"
      ]
     },
     "execution_count": 10,
     "metadata": {},
     "output_type": "execute_result"
    }
   ],
   "execution_count": 10
  },
  {
   "cell_type": "code",
   "metadata": {
    "ExecuteTime": {
     "end_time": "2024-06-08T10:08:15.192117Z",
     "start_time": "2024-06-08T10:08:15.182605Z"
    }
   },
   "source": [
    "# save the data set\n",
    "\n",
    "data.to_csv('titanic.csv', index=False)"
   ],
   "outputs": [],
   "execution_count": 11
  },
  {
   "cell_type": "markdown",
   "metadata": {},
   "source": [
    "## Data Exploration\n",
    "\n",
    "### Find numerical and categorical variables"
   ]
  },
  {
   "cell_type": "code",
   "metadata": {},
   "source": [
    "target = 'survived'"
   ],
   "outputs": [],
   "execution_count": null
  },
  {
   "cell_type": "code",
   "metadata": {
    "ExecuteTime": {
     "end_time": "2024-06-08T11:28:22.236390Z",
     "start_time": "2024-06-08T11:28:22.229867Z"
    }
   },
   "source": [
    "target = 'survived'\n",
    "# let's identify the categorical variables\n",
    "# we will capture those of type *object*\n",
    "\n",
    "vars_cat = [var for var in data.columns if data[var].dtype == 'O']\n",
    "\n",
    "# MSSubClass is also categorical by definition, despite its numeric values\n",
    "# (you can find the definitions of the variables in the data_description.txt\n",
    "# file available on Kaggle, in the same website where you downloaded the data)\n",
    "\n",
    "\n",
    "\n",
    "# number of categorical variables\n",
    "len(vars_cat)\n",
    "# cast all variables as categorical\n",
    "data[vars_cat] = data[vars_cat].astype('O')\n",
    "# now let's identify the numerical variables\n",
    "\n",
    "vars_num = [\n",
    "    var for var in data.columns if var not in vars_cat and var != 'survived'\n",
    "]\n",
    "\n",
    "# number of numerical variables\n",
    "len(vars_num)\n",
    "\n"
   ],
   "outputs": [
    {
     "data": {
      "text/plain": [
       "3"
      ]
     },
     "execution_count": 31,
     "metadata": {},
     "output_type": "execute_result"
    }
   ],
   "execution_count": 31
  },
  {
   "cell_type": "markdown",
   "metadata": {},
   "source": [
    "### Find missing values in variables"
   ]
  },
  {
   "cell_type": "code",
   "metadata": {
    "ExecuteTime": {
     "end_time": "2024-06-08T10:15:54.731086Z",
     "start_time": "2024-06-08T10:15:54.714804Z"
    }
   },
   "source": [
    "# first in numerical variables\n",
    "missing_num = data[vars_num].isnull().sum()\n",
    "print('Missing values in numerical variables:')\n",
    "print(missing_num[missing_num > 0])\n"
   ],
   "outputs": [
    {
     "name": "stdout",
     "output_type": "stream",
     "text": [
      "Missing values in numerical variables:\n",
      "Series([], dtype: int64)\n"
     ]
    }
   ],
   "execution_count": 15
  },
  {
   "cell_type": "code",
   "metadata": {
    "ExecuteTime": {
     "end_time": "2024-06-08T11:29:01.428816Z",
     "start_time": "2024-06-08T11:29:01.423092Z"
    }
   },
   "source": [
    "# now in categorical variables\n",
    "missing_cat = data[vars_cat].isnull().sum()\n",
    "print('\\nMissing values in categorical variables:')\n",
    "print(missing_cat[missing_cat > 0])\n"
   ],
   "outputs": [
    {
     "name": "stdout",
     "output_type": "stream",
     "text": [
      "\n",
      "Missing values in categorical variables:\n",
      "age         263\n",
      "fare          1\n",
      "embarked      2\n",
      "dtype: int64\n"
     ]
    }
   ],
   "execution_count": 32
  },
  {
   "cell_type": "markdown",
   "metadata": {},
   "source": [
    "### Determine cardinality of categorical variables"
   ]
  },
  {
   "cell_type": "code",
   "metadata": {
    "ExecuteTime": {
     "end_time": "2024-06-08T11:29:23.485368Z",
     "start_time": "2024-06-08T11:29:23.479658Z"
    }
   },
   "source": [
    "cardinality_cat = data[vars_cat].nunique()\n",
    "print('Cardinality of categorical variables:')\n",
    "print(cardinality_cat)"
   ],
   "outputs": [
    {
     "name": "stdout",
     "output_type": "stream",
     "text": [
      "Cardinality of categorical variables:\n",
      "sex               2\n",
      "age              98\n",
      "fare            281\n",
      "embarked          3\n",
      "title             5\n",
      "Cabin_letter      9\n",
      "dtype: int64\n"
     ]
    }
   ],
   "execution_count": 33
  },
  {
   "metadata": {},
   "cell_type": "markdown",
   "source": ""
  },
  {
   "cell_type": "markdown",
   "metadata": {},
   "source": [
    "### Determine the distribution of numerical variables"
   ]
  },
  {
   "cell_type": "code",
   "metadata": {
    "ExecuteTime": {
     "end_time": "2024-06-08T11:29:35.175113Z",
     "start_time": "2024-06-08T11:29:34.937190Z"
    }
   },
   "source": [
    "# Distribution of numerical variables using describe()\n",
    "print('Summary statistics of numerical variables:')\n",
    "print(data[vars_num].describe())\n",
    "\n",
    "# Distribution of numerical variables using histograms\n",
    "for var in vars_num:\n",
    "    plt.figure(figsize=(8, 6))\n",
    "    plt.hist(data[var], bins=20, color='skyblue', edgecolor='black')\n",
    "    plt.title('Histogram of {}'.format(var))\n",
    "    plt.xlabel(var)\n",
    "    plt.ylabel('Frequency')\n",
    "    plt.grid(True)\n",
    "    plt.show()\n"
   ],
   "outputs": [
    {
     "name": "stdout",
     "output_type": "stream",
     "text": [
      "Summary statistics of numerical variables:\n",
      "            pclass        sibsp        parch\n",
      "count  1309.000000  1309.000000  1309.000000\n",
      "mean      2.294882     0.498854     0.385027\n",
      "std       0.837836     1.041658     0.865560\n",
      "min       1.000000     0.000000     0.000000\n",
      "25%       2.000000     0.000000     0.000000\n",
      "50%       3.000000     0.000000     0.000000\n",
      "75%       3.000000     1.000000     0.000000\n",
      "max       3.000000     8.000000     9.000000\n"
     ]
    },
    {
     "data": {
      "text/plain": [
       "<Figure size 800x600 with 1 Axes>"
      ],
      "image/png": "[encoded data removed]"
     },
     "metadata": {},
     "output_type": "display_data"
    },
    {
     "data": {
      "text/plain": [
       "<Figure size 800x600 with 1 Axes>"
      ],
      "image/png": "[encoded data removed]"
     },
     "metadata": {},
     "output_type": "display_data"
    },
    {
     "data": {
      "text/plain": [
       "<Figure size 800x600 with 1 Axes>"
      ],
      "image/png": "[encoded data removed]"
     },
     "metadata": {},
     "output_type": "display_data"
    }
   ],
   "execution_count": 34
  },
  {
   "cell_type": "markdown",
   "metadata": {},
   "source": [
    "## Separate data into train and test\n",
    "\n",
    "Use the code below for reproducibility. Don't change it."
   ]
  },
  {
   "cell_type": "code",
   "metadata": {
    "ExecuteTime": {
     "end_time": "2024-06-08T11:29:45.762323Z",
     "start_time": "2024-06-08T11:29:45.753475Z"
    }
   },
   "source": [
    "X_train, X_test, y_train, y_test = train_test_split(\n",
    "    data.drop('survived', axis=1),  # predictors\n",
    "    data['survived'],  # target\n",
    "    test_size=0.2,  # percentage of obs in test set\n",
    "    random_state=0)  # seed to ensure reproducibility\n",
    "\n",
    "X_train.shape, X_test.shape"
   ],
   "outputs": [
    {
     "data": {
      "text/plain": [
       "((1047, 9), (262, 9))"
      ]
     },
     "execution_count": 35,
     "metadata": {},
     "output_type": "execute_result"
    }
   ],
   "execution_count": 35
  },
  {
   "metadata": {
    "ExecuteTime": {
     "end_time": "2024-06-08T11:33:24.620271Z",
     "start_time": "2024-06-08T11:33:24.617308Z"
    }
   },
   "cell_type": "code",
   "source": "data.columns\n",
   "outputs": [
    {
     "data": {
      "text/plain": [
       "Index(['pclass', 'survived', 'sex', 'age', 'sibsp', 'parch', 'fare',\n",
       "       'embarked', 'title', 'Cabin_letter'],\n",
       "      dtype='object')"
      ]
     },
     "execution_count": 40,
     "metadata": {},
     "output_type": "execute_result"
    }
   ],
   "execution_count": 40
  },
  {
   "cell_type": "markdown",
   "metadata": {},
   "source": [
    "## Feature Engineering\n",
    "\n",
    "### Extract only the letter (and drop the number) from the variable Cabin"
   ]
  },
  {
   "cell_type": "code",
   "metadata": {
    "ExecuteTime": {
     "end_time": "2024-06-08T11:34:01.283305Z",
     "start_time": "2024-06-08T11:34:01.275408Z"
    }
   },
   "source": [
    "\n",
    "import re\n",
    "\n",
    "# Extract letter from Cabin variable and create a new column\n",
    "data['Cabin_letter'] = data['Cabin_letter'].apply(lambda x: re.findall('[A-Za-z]', str(x)))\n",
    "\n",
    "# Convert the list to a string (if more than one letter is present)\n",
    "data['Cabin_letter'] = data['Cabin_letter'].apply(lambda x: ''.join(x))\n",
    "\n",
    "# Drop the original Cabin variable\n",
    "data.drop(columns=['Cabin_letter'], inplace=True)\n",
    "\n",
    "# Display the updated DataFrame\n",
    "print(data.head())\n"
   ],
   "outputs": [
    {
     "name": "stdout",
     "output_type": "stream",
     "text": [
      "   pclass  survived     sex     age  sibsp  parch      fare embarked   title\n",
      "0       1         1  female      29      0      0  211.3375        S    Miss\n",
      "1       1         1    male  0.9167      1      2    151.55        S  Master\n",
      "2       1         0  female       2      1      2    151.55        S    Miss\n",
      "3       1         0    male      30      1      2    151.55        S      Mr\n",
      "4       1         0  female      25      1      2    151.55        S     Mrs\n"
     ]
    }
   ],
   "execution_count": 41
  },
  {
   "cell_type": "markdown",
   "metadata": {},
   "source": [
    "### Fill in Missing data in numerical variables:\n",
    "\n",
    "- Add a binary missing indicator\n",
    "- Fill NA in original variable with the median"
   ]
  },
  {
   "cell_type": "code",
   "metadata": {
    "ExecuteTime": {
     "end_time": "2024-06-08T11:34:47.755414Z",
     "start_time": "2024-06-08T11:34:47.744141Z"
    }
   },
   "source": [
    "# Import necessary libraries\n",
    "from sklearn.impute import SimpleImputer\n",
    "\n",
    "# Create a copy of the dataset to avoid modifying the original\n",
    "data_filled = data.copy()\n",
    "\n",
    "# List of numerical variables with missing values\n",
    "vars_num_missing = [var for var in vars_num if data_filled[var].isnull().sum() > 0]\n",
    "\n",
    "# Add binary missing indicator for numerical variables\n",
    "for var in vars_num_missing:\n",
    "    data_filled[var + '_missing'] = np.where(data_filled[var].isnull(), 1, 0)\n",
    "\n",
    "# Fill missing values in original numerical variables with median\n",
    "imputer = SimpleImputer(strategy='median')\n",
    "data_filled[vars_num] = imputer.fit_transform(data_filled[vars_num])\n",
    "\n",
    "# Display the updated DataFrame\n",
    "print(data_filled.head())\n"
   ],
   "outputs": [
    {
     "name": "stdout",
     "output_type": "stream",
     "text": [
      "   pclass  survived     sex     age  sibsp  parch      fare embarked   title\n",
      "0     1.0         1  female      29    0.0    0.0  211.3375        S    Miss\n",
      "1     1.0         1    male  0.9167    1.0    2.0    151.55        S  Master\n",
      "2     1.0         0  female       2    1.0    2.0    151.55        S    Miss\n",
      "3     1.0         0    male      30    1.0    2.0    151.55        S      Mr\n",
      "4     1.0         0  female      25    1.0    2.0    151.55        S     Mrs\n"
     ]
    }
   ],
   "execution_count": 42
  },
  {
   "cell_type": "markdown",
   "metadata": {},
   "source": "### Replace Missing data in categorical variables with the string **Missing**"
  },
  {
   "cell_type": "code",
   "metadata": {
    "ExecuteTime": {
     "end_time": "2024-06-08T11:38:00.704018Z",
     "start_time": "2024-06-08T11:38:00.695915Z"
    }
   },
   "source": [
    "# List of categorical variables with missing values\n",
    "vars_cat_missing = [var for var in vars_cat if var != 'Cabin_letter' and data_filled[var].isnull().sum() > 0]\n",
    "\n",
    "# Replace missing values in categorical variables with 'Missing'\n",
    "data_filled[vars_cat_missing] = data_filled[vars_cat_missing].map(lambda x: 'Missing' if pd.isnull(x) else x)\n",
    "\n",
    "# Display the updated DataFrame\n",
    "print(data_filled.head())\n",
    "\n",
    "\n"
   ],
   "outputs": [
    {
     "name": "stdout",
     "output_type": "stream",
     "text": [
      "   pclass  survived     sex     age  sibsp  parch      fare embarked   title\n",
      "0     1.0         1  female      29    0.0    0.0  211.3375        S    Miss\n",
      "1     1.0         1    male  0.9167    1.0    2.0    151.55        S  Master\n",
      "2     1.0         0  female       2    1.0    2.0    151.55        S    Miss\n",
      "3     1.0         0    male      30    1.0    2.0    151.55        S      Mr\n",
      "4     1.0         0  female      25    1.0    2.0    151.55        S     Mrs\n"
     ]
    }
   ],
   "execution_count": 46
  },
  {
   "cell_type": "code",
   "metadata": {},
   "source": [],
   "outputs": [],
   "execution_count": null
  },
  {
   "cell_type": "code",
   "metadata": {},
   "source": [],
   "outputs": [],
   "execution_count": null
  },
  {
   "cell_type": "markdown",
   "metadata": {},
   "source": [
    "### Remove rare labels in categorical variables\n",
    "\n",
    "- remove labels present in less than 5 % of the passengers"
   ]
  },
  {
   "cell_type": "code",
   "metadata": {
    "ExecuteTime": {
     "end_time": "2024-06-08T11:40:20.786632Z",
     "start_time": "2024-06-08T11:40:20.770734Z"
    }
   },
   "source": [
    "# Function to find frequent labels\n",
    "def find_frequent_labels(df, var, rare_perc):\n",
    "    # Calculate the percentage of each label\n",
    "    label_frequency = df[var].value_counts() / len(df)\n",
    "\n",
    "    # Return the labels that are shared by more than the specified percentage\n",
    "    frequent_labels = label_frequency[label_frequency > rare_perc].index\n",
    "\n",
    "    return frequent_labels\n",
    "\n",
    "# Replace rare labels in categorical variables with 'Rare'\n",
    "for var in vars_cat:\n",
    "    # Check if the variable is in the DataFrame\n",
    "    if var in data_filled.columns:\n",
    "        # Find the frequent labels for the current variable\n",
    "        frequent_ls = find_frequent_labels(data_filled, var, 0.05)\n",
    "        \n",
    "        # Replace rare labels with 'Rare'\n",
    "        data_filled[var] = np.where(data_filled[var].isin(frequent_ls), data_filled[var], 'Rare')\n",
    "\n",
    "# Display the updated DataFrame\n",
    "print(data_filled.head())\n",
    "\n"
   ],
   "outputs": [
    {
     "name": "stdout",
     "output_type": "stream",
     "text": [
      "   pclass  survived     sex   age  sibsp  parch  fare embarked title\n",
      "0     1.0         1  female  Rare    0.0    0.0  Rare        S  Miss\n",
      "1     1.0         1    male  Rare    1.0    2.0  Rare        S  Rare\n",
      "2     1.0         0  female  Rare    1.0    2.0  Rare        S  Miss\n",
      "3     1.0         0    male  Rare    1.0    2.0  Rare        S    Mr\n",
      "4     1.0         0  female  Rare    1.0    2.0  Rare        S   Mrs\n"
     ]
    }
   ],
   "execution_count": 48
  },
  {
   "cell_type": "code",
   "metadata": {},
   "source": [],
   "outputs": [],
   "execution_count": null
  },
  {
   "cell_type": "code",
   "metadata": {},
   "source": [],
   "outputs": [],
   "execution_count": null
  },
  {
   "cell_type": "markdown",
   "metadata": {},
   "source": [
    "### Perform one hot encoding of categorical variables into k-1 binary variables\n",
    "\n",
    "- k-1, means that if the variable contains 9 different categories, we create 8 different binary variables\n",
    "- Remember to drop the original categorical variable (the one with the strings) after the encoding"
   ]
  },
  {
   "cell_type": "code",
   "metadata": {
    "ExecuteTime": {
     "end_time": "2024-06-08T11:42:31.917397Z",
     "start_time": "2024-06-08T11:42:31.891366Z"
    }
   },
   "source": [
    "# First, identify the categorical variables if not already done\n",
    "vars_cat = [var for var in data_filled.columns if data_filled[var].dtype == 'O']\n",
    "\n",
    "# Perform one-hot encoding\n",
    "data_encoded = pd.get_dummies(data_filled, columns=vars_cat, drop_first=True)\n",
    "\n",
    "# Display the first few rows of the encoded DataFrame\n",
    "print(data_encoded.head())\n",
    "\n",
    "# Save the encoded DataFrame if needed\n",
    "data_encoded.to_csv('titanic_encoded.csv', index=False)\n"
   ],
   "outputs": [
    {
     "name": "stdout",
     "output_type": "stream",
     "text": [
      "   pclass  survived  sibsp  parch  sex_male  age_Rare  embarked_Q  \\\n",
      "0     1.0         1    0.0    0.0     False      True       False   \n",
      "1     1.0         1    1.0    2.0      True      True       False   \n",
      "2     1.0         0    1.0    2.0     False      True       False   \n",
      "3     1.0         0    1.0    2.0      True      True       False   \n",
      "4     1.0         0    1.0    2.0     False      True       False   \n",
      "\n",
      "   embarked_Rare  embarked_S  title_Mr  title_Mrs  title_Rare  \n",
      "0          False        True     False      False       False  \n",
      "1          False        True     False      False        True  \n",
      "2          False        True     False      False       False  \n",
      "3          False        True      True      False       False  \n",
      "4          False        True     False       True       False  \n"
     ]
    }
   ],
   "execution_count": 49
  },
  {
   "cell_type": "code",
   "metadata": {},
   "source": [],
   "outputs": [],
   "execution_count": null
  },
  {
   "cell_type": "code",
   "metadata": {},
   "source": [],
   "outputs": [],
   "execution_count": null
  },
  {
   "cell_type": "code",
   "metadata": {},
   "source": [],
   "outputs": [],
   "execution_count": null
  },
  {
   "cell_type": "markdown",
   "metadata": {},
   "source": [
    "### Scale the variables\n",
    "\n",
    "- Use the standard scaler from Scikit-learn"
   ]
  },
  {
   "cell_type": "code",
   "metadata": {
    "ExecuteTime": {
     "end_time": "2024-06-08T11:44:04.043881Z",
     "start_time": "2024-06-08T11:44:04.018232Z"
    }
   },
   "source": [
    "from sklearn.preprocessing import StandardScaler\n",
    "\n",
    "# Separate the target variable and features\n",
    "target = 'survived'\n",
    "X = data_encoded.drop(columns=[target])\n",
    "y = data_encoded[target]\n",
    "\n",
    "# Split the data into training and testing sets\n",
    "X_train, X_test, y_train, y_test = train_test_split(X, y, test_size=0.2, random_state=0)\n",
    "\n",
    "# Initialize the scaler\n",
    "scaler = StandardScaler()\n",
    "\n",
    "# Fit the scaler on the training data and transform both training and testing data\n",
    "X_train_scaled = scaler.fit_transform(X_train)\n",
    "X_test_scaled = scaler.transform(X_test)\n",
    "\n",
    "# Convert the scaled arrays back to DataFrames\n",
    "X_train_scaled = pd.DataFrame(X_train_scaled, columns=X_train.columns)\n",
    "X_test_scaled = pd.DataFrame(X_test_scaled, columns=X_test.columns)\n",
    "\n",
    "# Display the first few rows of the scaled training data\n",
    "print(X_train_scaled.head())\n",
    "\n",
    "# Optionally, save the scaler for future use\n",
    "joblib.dump(scaler, 'scaler.pkl')\n"
   ],
   "outputs": [
    {
     "name": "stdout",
     "output_type": "stream",
     "text": [
      "     pclass     sibsp     parch  sex_male  age_Rare  embarked_Q  \\\n",
      "0  0.835808 -0.478911 -0.455423  0.761042  0.494921   -0.319539   \n",
      "1 -1.542157 -0.478911 -0.455423 -1.313987  0.494921   -0.319539   \n",
      "2  0.835808 -0.478911 -0.455423  0.761042 -2.020526    3.129507   \n",
      "3  0.835808 -0.478911 -0.455423 -1.313987  0.494921   -0.319539   \n",
      "4 -0.353174  0.434422 -0.455423  0.761042  0.494921   -0.319539   \n",
      "\n",
      "   embarked_Rare  embarked_S  title_Mr  title_Mrs  title_Rare  \n",
      "0      -0.043748    0.639650  0.869892  -0.435629   -0.275778  \n",
      "1      -0.043748   -1.563355 -1.149569  -0.435629   -0.275778  \n",
      "2      -0.043748   -1.563355  0.869892  -0.435629   -0.275778  \n",
      "3      -0.043748    0.639650 -1.149569  -0.435629   -0.275778  \n",
      "4      -0.043748    0.639650  0.869892  -0.435629   -0.275778  \n"
     ]
    },
    {
     "data": {
      "text/plain": [
       "['scaler.pkl']"
      ]
     },
     "execution_count": 50,
     "metadata": {},
     "output_type": "execute_result"
    }
   ],
   "execution_count": 50
  },
  {
   "cell_type": "markdown",
   "metadata": {},
   "source": [
    "## Train the Logistic Regression model\n",
    "\n",
    "- Set the regularization parameter to 0.0005\n",
    "- Set the seed to 0"
   ]
  },
  {
   "cell_type": "code",
   "metadata": {},
   "source": [],
   "outputs": [],
   "execution_count": null
  },
  {
   "cell_type": "markdown",
   "metadata": {},
   "source": [
    "## Make predictions and evaluate model performance\n",
    "\n",
    "Determine:\n",
    "- roc-auc\n",
    "- accuracy\n",
    "\n",
    "**Important, remember that to determine the accuracy, you need the outcome 0, 1, referring to survived or not. But to determine the roc-auc you need the probability of survival.**"
   ]
  },
  {
   "cell_type": "code",
   "metadata": {
    "ExecuteTime": {
     "end_time": "2024-06-08T11:45:04.624696Z",
     "start_time": "2024-06-08T11:45:04.506844Z"
    }
   },
   "source": [
    "# Import necessary libraries for modeling and evaluation\n",
    "from sklearn.linear_model import LogisticRegression\n",
    "from sklearn.metrics import accuracy_score, roc_auc_score\n",
    "\n",
    "# Initialize the logistic regression model\n",
    "log_model = LogisticRegression(random_state=0)\n",
    "\n",
    "# Fit the model on the training data\n",
    "log_model.fit(X_train_scaled, y_train)\n",
    "\n",
    "# Make predictions on the test set\n",
    "# For accuracy, we need the class labels\n",
    "y_pred = log_model.predict(X_test_scaled)\n",
    "\n",
    "# For ROC-AUC, we need the probabilities of the positive class (survived = 1)\n",
    "y_pred_proba = log_model.predict_proba(X_test_scaled)[:, 1]\n",
    "\n",
    "# Calculate accuracy\n",
    "accuracy = accuracy_score(y_test, y_pred)\n",
    "print('Accuracy:', accuracy)\n",
    "\n",
    "# Calculate ROC-AUC\n",
    "roc_auc = roc_auc_score(y_test, y_pred_proba)\n",
    "print('ROC-AUC:', roc_auc)\n"
   ],
   "outputs": [
    {
     "name": "stdout",
     "output_type": "stream",
     "text": [
      "Accuracy: 0.7824427480916031\n",
      "ROC-AUC: 0.8330864197530864\n"
     ]
    }
   ],
   "execution_count": 51
  },
  {
   "cell_type": "markdown",
   "metadata": {},
   "source": [
    "That's it! Well done\n",
    "\n",
    "**Keep this code safe, as we will use this notebook later on, to build production code, in our next assignement!!**"
   ]
  },
  {
   "cell_type": "code",
   "metadata": {},
   "source": [],
   "outputs": [],
   "execution_count": null
  }
 ],
 "metadata": {
  "kernelspec": {
   "display_name": "Python 3 (ipykernel)",
   "language": "python",
   "name": "python3"
  },
  "language_info": {
   "codemirror_mode": {
    "name": "ipython",
    "version": 3
   },
   "file_extension": ".py",
   "mimetype": "text/x-python",
   "name": "python",
   "nbconvert_exporter": "python",
   "pygments_lexer": "ipython3",
   "version": "3.8.2"
  },
  "toc": {
   "base_numbering": 1,
   "nav_menu": {},
   "number_sections": true,
   "sideBar": true,
   "skip_h1_title": false,
   "title_cell": "Table of Contents",
   "title_sidebar": "Contents",
   "toc_cell": false,
   "toc_position": {},
   "toc_section_display": true,
   "toc_window_display": true
  }
 },
 "nbformat": 4,
 "nbformat_minor": 2
}
